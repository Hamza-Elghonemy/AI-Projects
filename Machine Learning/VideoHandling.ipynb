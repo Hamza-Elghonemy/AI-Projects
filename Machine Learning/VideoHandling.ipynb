{
 "cells": [
  {
   "cell_type": "code",
   "execution_count": 2,
   "id": "b0841ad9",
   "metadata": {},
   "outputs": [
    {
     "name": "stdout",
     "output_type": "stream",
     "text": [
      "Defaulting to user installation because normal site-packages is not writeable\n",
      "Collecting ffpyplayer\n",
      "  Downloading ffpyplayer-4.5.0-cp310-cp310-win_amd64.whl (60.9 MB)\n",
      "     -------------------------------------- 60.9/60.9 MB 282.2 kB/s eta 0:00:00\n",
      "Installing collected packages: ffpyplayer\n",
      "Successfully installed ffpyplayer-4.5.0\n"
     ]
    }
   ],
   "source": [
    "!pip install ffpyplayer"
   ]
  },
  {
   "cell_type": "code",
   "execution_count": 3,
   "id": "85dacc36",
   "metadata": {},
   "outputs": [
    {
     "name": "stdout",
     "output_type": "stream",
     "text": [
      "End of video\n"
     ]
    }
   ],
   "source": [
    "import cv2\n",
    "import numpy as np\n",
    "#ffpyplayer for playing audio\n",
    "from ffpyplayer.player import MediaPlayer\n",
    "video_path=\"F:\\Documents\\Downloads\\V2.mp4\"\n",
    "def PlayVideo(video_path):\n",
    "    video=cv2.VideoCapture(video_path)\n",
    "    player = MediaPlayer(video_path)\n",
    "    while True:\n",
    "        grabbed, frame=video.read()\n",
    "        audio_frame, val = player.get_frame()\n",
    "        if not grabbed:\n",
    "            print(\"End of video\")\n",
    "            break\n",
    "        if cv2.waitKey(28) & 0xFF == ord(\"q\"):\n",
    "            break\n",
    "        cv2.imshow(\"Video\", frame)\n",
    "        if val != 'eof' and audio_frame is not None:\n",
    "            #audio\n",
    "            img, t = audio_frame\n",
    "    video.release()\n",
    "    cv2.destroyAllWindows()\n",
    "PlayVideo(video_path)"
   ]
  },
  {
   "cell_type": "code",
   "execution_count": null,
   "id": "28635086",
   "metadata": {},
   "outputs": [],
   "source": []
  }
 ],
 "metadata": {
  "kernelspec": {
   "display_name": "Python 3 (ipykernel)",
   "language": "python",
   "name": "python3"
  },
  "language_info": {
   "codemirror_mode": {
    "name": "ipython",
    "version": 3
   },
   "file_extension": ".py",
   "mimetype": "text/x-python",
   "name": "python",
   "nbconvert_exporter": "python",
   "pygments_lexer": "ipython3",
   "version": "3.10.9"
  }
 },
 "nbformat": 4,
 "nbformat_minor": 5
}
