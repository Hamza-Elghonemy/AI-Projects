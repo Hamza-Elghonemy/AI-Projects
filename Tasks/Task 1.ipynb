{
 "cells": [
  {
   "cell_type": "code",
   "execution_count": 6,
   "id": "33a282d3",
   "metadata": {},
   "outputs": [
    {
     "name": "stdout",
     "output_type": "stream",
     "text": [
      "10\n"
     ]
    }
   ],
   "source": [
    "string_number='10'\n",
    "convert=int(x)\n",
    "print(y)"
   ]
  },
  {
   "cell_type": "code",
   "execution_count": 5,
   "id": "97916bda",
   "metadata": {},
   "outputs": [
    {
     "ename": "ValueError",
     "evalue": "invalid literal for int() with base 10: 'TEN'",
     "output_type": "error",
     "traceback": [
      "\u001b[1;31m---------------------------------------------------------------------------\u001b[0m",
      "\u001b[1;31mValueError\u001b[0m                                Traceback (most recent call last)",
      "Cell \u001b[1;32mIn[5], line 2\u001b[0m\n\u001b[0;32m      1\u001b[0m string_word\u001b[38;5;241m=\u001b[39m\u001b[38;5;124m'\u001b[39m\u001b[38;5;124mTEN\u001b[39m\u001b[38;5;124m'\u001b[39m\n\u001b[1;32m----> 2\u001b[0m convert\u001b[38;5;241m=\u001b[39m\u001b[38;5;28;43mint\u001b[39;49m\u001b[43m(\u001b[49m\u001b[43mstring_word\u001b[49m\u001b[43m)\u001b[49m\n\u001b[0;32m      3\u001b[0m \u001b[38;5;28mprint\u001b[39m(convert)\n",
      "\u001b[1;31mValueError\u001b[0m: invalid literal for int() with base 10: 'TEN'"
     ]
    }
   ],
   "source": [
    "string_word='TEN'\n",
    "convert=int(string_word)\n",
    "print(convert)"
   ]
  },
  {
   "cell_type": "code",
   "execution_count": 8,
   "id": "d4e4cbd8",
   "metadata": {},
   "outputs": [
    {
     "name": "stdout",
     "output_type": "stream",
     "text": [
      "10\n"
     ]
    }
   ],
   "source": [
    "integer=10\n",
    "convert=str(integer)\n",
    "print(convert)"
   ]
  },
  {
   "cell_type": "code",
   "execution_count": 16,
   "id": "5a11ea06",
   "metadata": {},
   "outputs": [
    {
     "name": "stdout",
     "output_type": "stream",
     "text": [
      "True\n"
     ]
    }
   ],
   "source": [
    "boolean=True\n",
    "convert=str(boolean)\n",
    "print(convert)"
   ]
  },
  {
   "cell_type": "code",
   "execution_count": 18,
   "id": "e8962a95",
   "metadata": {},
   "outputs": [
    {
     "name": "stdout",
     "output_type": "stream",
     "text": [
      "True\n"
     ]
    }
   ],
   "source": [
    "string='true'\n",
    "convert=bool(string)\n",
    "print(convert)"
   ]
  },
  {
   "cell_type": "code",
   "execution_count": 20,
   "id": "acc972bf",
   "metadata": {},
   "outputs": [
    {
     "name": "stdout",
     "output_type": "stream",
     "text": [
      "False\n"
     ]
    }
   ],
   "source": [
    "string=''\n",
    "convert=bool(string)\n",
    "print(convert)"
   ]
  },
  {
   "cell_type": "code",
   "execution_count": 21,
   "id": "a29e55f7",
   "metadata": {},
   "outputs": [
    {
     "name": "stdout",
     "output_type": "stream",
     "text": [
      "True\n"
     ]
    }
   ],
   "source": [
    "string='Hamza'\n",
    "convert=bool(string)\n",
    "print(convert)"
   ]
  },
  {
   "cell_type": "code",
   "execution_count": 22,
   "id": "083d6771",
   "metadata": {},
   "outputs": [
    {
     "ename": "ValueError",
     "evalue": "could not convert string to float: 'Hamza'",
     "output_type": "error",
     "traceback": [
      "\u001b[1;31m---------------------------------------------------------------------------\u001b[0m",
      "\u001b[1;31mValueError\u001b[0m                                Traceback (most recent call last)",
      "Cell \u001b[1;32mIn[22], line 2\u001b[0m\n\u001b[0;32m      1\u001b[0m string\u001b[38;5;241m=\u001b[39m\u001b[38;5;124m'\u001b[39m\u001b[38;5;124mHamza\u001b[39m\u001b[38;5;124m'\u001b[39m\n\u001b[1;32m----> 2\u001b[0m convert\u001b[38;5;241m=\u001b[39m\u001b[38;5;28;43mfloat\u001b[39;49m\u001b[43m(\u001b[49m\u001b[43mstring\u001b[49m\u001b[43m)\u001b[49m\n\u001b[0;32m      3\u001b[0m \u001b[38;5;28mprint\u001b[39m(convert)\n",
      "\u001b[1;31mValueError\u001b[0m: could not convert string to float: 'Hamza'"
     ]
    }
   ],
   "source": [
    "string='Hamza'\n",
    "convert=float(string)\n",
    "print(convert)"
   ]
  },
  {
   "cell_type": "code",
   "execution_count": 23,
   "id": "00d16a7c",
   "metadata": {},
   "outputs": [
    {
     "name": "stdout",
     "output_type": "stream",
     "text": [
      "5.384615384615385\n"
     ]
    }
   ],
   "source": [
    "number=70/13\n",
    "convert=float(number)\n",
    "print(convert)"
   ]
  },
  {
   "cell_type": "code",
   "execution_count": 24,
   "id": "ef6c0096",
   "metadata": {},
   "outputs": [
    {
     "name": "stdout",
     "output_type": "stream",
     "text": [
      "5\n"
     ]
    }
   ],
   "source": [
    "integer=70/13\n",
    "convert=float(integer)\n",
    "convert_to_int=int(convert)\n",
    "print(convert_to_int)"
   ]
  },
  {
   "cell_type": "code",
   "execution_count": 25,
   "id": "7943cedf",
   "metadata": {},
   "outputs": [
    {
     "name": "stdout",
     "output_type": "stream",
     "text": [
      "20.0\n"
     ]
    }
   ],
   "source": [
    "integer=20\n",
    "convert=float(integer)\n",
    "print(convert)\n"
   ]
  },
  {
   "cell_type": "code",
   "execution_count": 27,
   "id": "e643faec",
   "metadata": {},
   "outputs": [
    {
     "name": "stdout",
     "output_type": "stream",
     "text": [
      "(1, 2, 3, 'Hamza')\n"
     ]
    }
   ],
   "source": [
    "list1=[1,2,3,'Hamza']\n",
    "convert=tuple(list1)\n",
    "print(convert)"
   ]
  },
  {
   "cell_type": "code",
   "execution_count": 29,
   "id": "03abf59e",
   "metadata": {},
   "outputs": [
    {
     "name": "stdout",
     "output_type": "stream",
     "text": [
      "[1, 2, 3, 'Hamza']\n"
     ]
    }
   ],
   "source": [
    "tuple1=(1,2,3,'Hamza')\n",
    "convert=list(tuple1)\n",
    "print(convert)"
   ]
  },
  {
   "cell_type": "code",
   "execution_count": 31,
   "id": "d5e0aada",
   "metadata": {},
   "outputs": [
    {
     "name": "stdout",
     "output_type": "stream",
     "text": [
      "['one', 'two', 'three']\n"
     ]
    }
   ],
   "source": [
    "dict1={'one':1,'two':2,'three':3}\n",
    "convert=list(dict1)\n",
    "print(convert)"
   ]
  },
  {
   "cell_type": "code",
   "execution_count": 32,
   "id": "273e4b44",
   "metadata": {},
   "outputs": [
    {
     "name": "stdout",
     "output_type": "stream",
     "text": [
      "('one', 'two', 'three')\n"
     ]
    }
   ],
   "source": [
    "dict1={'one':1,'two':2,'three':3}\n",
    "convert=tuple(dict1)\n",
    "print(convert)"
   ]
  },
  {
   "cell_type": "code",
   "execution_count": 33,
   "id": "9ca3c71c",
   "metadata": {},
   "outputs": [
    {
     "ename": "TypeError",
     "evalue": "cannot convert dictionary update sequence element #0 to a sequence",
     "output_type": "error",
     "traceback": [
      "\u001b[1;31m---------------------------------------------------------------------------\u001b[0m",
      "\u001b[1;31mTypeError\u001b[0m                                 Traceback (most recent call last)",
      "Cell \u001b[1;32mIn[33], line 2\u001b[0m\n\u001b[0;32m      1\u001b[0m list1\u001b[38;5;241m=\u001b[39m[\u001b[38;5;241m1\u001b[39m,\u001b[38;5;241m2\u001b[39m,\u001b[38;5;241m3\u001b[39m,\u001b[38;5;124m'\u001b[39m\u001b[38;5;124mHamza\u001b[39m\u001b[38;5;124m'\u001b[39m]\n\u001b[1;32m----> 2\u001b[0m convert\u001b[38;5;241m=\u001b[39m\u001b[38;5;28;43mdict\u001b[39;49m\u001b[43m(\u001b[49m\u001b[43mlist1\u001b[49m\u001b[43m)\u001b[49m\n\u001b[0;32m      3\u001b[0m \u001b[38;5;28mprint\u001b[39m(convert)\n",
      "\u001b[1;31mTypeError\u001b[0m: cannot convert dictionary update sequence element #0 to a sequence"
     ]
    }
   ],
   "source": [
    "list1=[1,2,3,'Hamza']\n",
    "convert=dict(list1)\n",
    "print(convert)"
   ]
  },
  {
   "cell_type": "code",
   "execution_count": 34,
   "id": "560b0c5e",
   "metadata": {},
   "outputs": [
    {
     "ename": "TypeError",
     "evalue": "cannot convert dictionary update sequence element #0 to a sequence",
     "output_type": "error",
     "traceback": [
      "\u001b[1;31m---------------------------------------------------------------------------\u001b[0m",
      "\u001b[1;31mTypeError\u001b[0m                                 Traceback (most recent call last)",
      "Cell \u001b[1;32mIn[34], line 2\u001b[0m\n\u001b[0;32m      1\u001b[0m tuple1\u001b[38;5;241m=\u001b[39m(\u001b[38;5;241m1\u001b[39m,\u001b[38;5;241m2\u001b[39m,\u001b[38;5;241m3\u001b[39m,\u001b[38;5;124m'\u001b[39m\u001b[38;5;124mHamza\u001b[39m\u001b[38;5;124m'\u001b[39m)\n\u001b[1;32m----> 2\u001b[0m convert\u001b[38;5;241m=\u001b[39m\u001b[38;5;28;43mdict\u001b[39;49m\u001b[43m(\u001b[49m\u001b[43mtuple1\u001b[49m\u001b[43m)\u001b[49m\n\u001b[0;32m      3\u001b[0m \u001b[38;5;28mprint\u001b[39m(convert)\n",
      "\u001b[1;31mTypeError\u001b[0m: cannot convert dictionary update sequence element #0 to a sequence"
     ]
    }
   ],
   "source": [
    "tuple1=(1,2,3,'Hamza')\n",
    "convert=dict(tuple1)\n",
    "print(convert)"
   ]
  },
  {
   "cell_type": "code",
   "execution_count": 35,
   "id": "78e26636",
   "metadata": {},
   "outputs": [
    {
     "name": "stdout",
     "output_type": "stream",
     "text": [
      "[1, 2, 3, 4]\n"
     ]
    }
   ],
   "source": [
    "arr=[1,2,3,4]\n",
    "convert=list(arr)\n",
    "print(convert)"
   ]
  },
  {
   "cell_type": "code",
   "execution_count": 36,
   "id": "d4f5a0ac",
   "metadata": {},
   "outputs": [
    {
     "name": "stdout",
     "output_type": "stream",
     "text": [
      "(1, 2, 3, 4)\n"
     ]
    }
   ],
   "source": [
    "arr=[1,2,3,4]\n",
    "convert=tuple(arr)\n",
    "print(convert)"
   ]
  },
  {
   "cell_type": "code",
   "execution_count": 37,
   "id": "7cc7e813",
   "metadata": {},
   "outputs": [
    {
     "ename": "TypeError",
     "evalue": "cannot convert dictionary update sequence element #0 to a sequence",
     "output_type": "error",
     "traceback": [
      "\u001b[1;31m---------------------------------------------------------------------------\u001b[0m",
      "\u001b[1;31mTypeError\u001b[0m                                 Traceback (most recent call last)",
      "Cell \u001b[1;32mIn[37], line 2\u001b[0m\n\u001b[0;32m      1\u001b[0m arr\u001b[38;5;241m=\u001b[39m[\u001b[38;5;241m1\u001b[39m,\u001b[38;5;241m2\u001b[39m,\u001b[38;5;241m3\u001b[39m,\u001b[38;5;241m4\u001b[39m]\n\u001b[1;32m----> 2\u001b[0m convert\u001b[38;5;241m=\u001b[39m\u001b[38;5;28;43mdict\u001b[39;49m\u001b[43m(\u001b[49m\u001b[43marr\u001b[49m\u001b[43m)\u001b[49m\n\u001b[0;32m      3\u001b[0m \u001b[38;5;28mprint\u001b[39m(convert)\n",
      "\u001b[1;31mTypeError\u001b[0m: cannot convert dictionary update sequence element #0 to a sequence"
     ]
    }
   ],
   "source": [
    "arr=[1,2,3,4]\n",
    "convert=dict(arr)\n",
    "print(convert)"
   ]
  },
  {
   "cell_type": "code",
   "execution_count": 38,
   "id": "92ee851e",
   "metadata": {},
   "outputs": [
    {
     "name": "stdout",
     "output_type": "stream",
     "text": [
      "16\n"
     ]
    }
   ],
   "source": [
    "print(8<<1)"
   ]
  },
  {
   "cell_type": "code",
   "execution_count": 41,
   "id": "b633dcfa",
   "metadata": {},
   "outputs": [
    {
     "name": "stdout",
     "output_type": "stream",
     "text": [
      "2\n"
     ]
    }
   ],
   "source": [
    "print(8>>2)\n",
    "#8->1000\n",
    "#shiftright(2)-->0010=2"
   ]
  },
  {
   "cell_type": "code",
   "execution_count": 40,
   "id": "9ed7f730",
   "metadata": {},
   "outputs": [
    {
     "name": "stdout",
     "output_type": "stream",
     "text": [
      "40\n"
     ]
    }
   ],
   "source": [
    "print(10<<2)\n",
    "#10->00001010\n",
    "#shiftleft(2)-->00101000=40"
   ]
  },
  {
   "cell_type": "code",
   "execution_count": 42,
   "id": "1fb417b1",
   "metadata": {},
   "outputs": [
    {
     "name": "stdout",
     "output_type": "stream",
     "text": [
      "2\n"
     ]
    }
   ],
   "source": [
    "print(10>>2)\n",
    "#10->00001010\n",
    "#shiftleft(2)-->00000010=2"
   ]
  },
  {
   "cell_type": "code",
   "execution_count": 54,
   "id": "9c2e1cee",
   "metadata": {},
   "outputs": [
    {
     "name": "stdout",
     "output_type": "stream",
     "text": [
      "The odd numbers are: [1, 3, 5]\n"
     ]
    }
   ],
   "source": [
    "list=[1,2,3,4,5,6]\n",
    "print('The odd numbers are:',list[0:6:2]) #list[start:stop:step]"
   ]
  },
  {
   "cell_type": "code",
   "execution_count": 55,
   "id": "89cd6afe",
   "metadata": {},
   "outputs": [
    {
     "name": "stdout",
     "output_type": "stream",
     "text": [
      "The even numbers are: [2, 4, 6]\n"
     ]
    }
   ],
   "source": [
    "list=[1,2,3,4,5,6]\n",
    "print('The even numbers are:',list[1:6:2])"
   ]
  },
  {
   "cell_type": "code",
   "execution_count": 60,
   "id": "770c8811",
   "metadata": {},
   "outputs": [
    {
     "name": "stdout",
     "output_type": "stream",
     "text": [
      "Enter a year:2021\n",
      "The year you entered is not a leap year\n"
     ]
    }
   ],
   "source": [
    "x=int(input('Enter a year:'))\n",
    "if x%4==0:\n",
    "    print('Youve entered a leap year!')\n",
    "else: \n",
    "    print('The year you entered is not a leap year')"
   ]
  },
  {
   "cell_type": "code",
   "execution_count": 61,
   "id": "70f23168",
   "metadata": {},
   "outputs": [
    {
     "name": "stdout",
     "output_type": "stream",
     "text": [
      "Enter a year:2024\n",
      "Youve entered a leap year!\n"
     ]
    }
   ],
   "source": [
    "x=int(input('Enter a year:'))\n",
    "if x%4==0:\n",
    "    print('Youve entered a leap year!')\n",
    "else: \n",
    "    print('The year you entered is not a leap year')"
   ]
  },
  {
   "cell_type": "code",
   "execution_count": 63,
   "id": "488a11c5",
   "metadata": {},
   "outputs": [
    {
     "name": "stdout",
     "output_type": "stream",
     "text": [
      "Enter age of first person:12\n",
      "Enter age of second person:1\n",
      "Enter age of third person:34\n",
      "The maximum age is:  34\n",
      "The minimum age is:  1\n"
     ]
    }
   ],
   "source": [
    "x=int(input('Enter age of first person:'))\n",
    "y=int(input('Enter age of second person:'))\n",
    "z=int(input('Enter age of third person:'))\n",
    "if x>z and x>y:\n",
    "    max=x\n",
    "elif z>y and z>x:\n",
    "    max=z\n",
    "else: \n",
    "    max=y\n",
    "\n",
    "if x<z and x<y:\n",
    "    min=x\n",
    "elif z<y and z<x:\n",
    "    min=z\n",
    "else: \n",
    "    min=y\n",
    "    \n",
    "print('The maximum age is: ',max)\n",
    "print('The minimum age is: ',min)"
   ]
  },
  {
   "cell_type": "code",
   "execution_count": null,
   "id": "ce4ced1c",
   "metadata": {},
   "outputs": [],
   "source": []
  }
 ],
 "metadata": {
  "kernelspec": {
   "display_name": "Python 3 (ipykernel)",
   "language": "python",
   "name": "python3"
  },
  "language_info": {
   "codemirror_mode": {
    "name": "ipython",
    "version": 3
   },
   "file_extension": ".py",
   "mimetype": "text/x-python",
   "name": "python",
   "nbconvert_exporter": "python",
   "pygments_lexer": "ipython3",
   "version": "3.10.9"
  }
 },
 "nbformat": 4,
 "nbformat_minor": 5
}
