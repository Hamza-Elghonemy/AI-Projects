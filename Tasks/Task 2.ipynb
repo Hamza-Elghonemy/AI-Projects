{
 "cells": [
  {
   "cell_type": "code",
   "execution_count": 6,
   "id": "110674de",
   "metadata": {},
   "outputs": [
    {
     "name": "stdout",
     "output_type": "stream",
     "text": [
      "<re.Match object; span=(1, 24), match='CoreyMSchafer@gmail.com'>\n",
      "<re.Match object; span=(25, 53), match='corey.schafer@university.edu'>\n",
      "<re.Match object; span=(54, 83), match='corey-321-schafer@my-work.net'>\n",
      "<re.Match object; span=(84, 111), match='hamzaelghonemy77_0@email.ca'>\n"
     ]
    }
   ],
   "source": [
    "#TASK 2\n",
    "import re\n",
    "emails = '''\n",
    "CoreyMSchafer@gmail.com\n",
    "corey.schafer@university.edu\n",
    "corey-321-schafer@my-work.net\n",
    "hamzaelghonemy77_0@email.ca\n",
    "'''\n",
    "\n",
    "pattern= re.compile(r'[a-zA-Z0-9_.+-]+@[a-zA-Z0-9-]+\\.\\w+')\n",
    "matches=pattern.finditer(emails)\n",
    "\n",
    "for match in matches:\n",
    "  print(match)"
   ]
  },
  {
   "cell_type": "code",
   "execution_count": null,
   "id": "b3cbcd6c",
   "metadata": {},
   "outputs": [],
   "source": []
  },
  {
   "cell_type": "code",
   "execution_count": null,
   "id": "1049c029",
   "metadata": {},
   "outputs": [],
   "source": []
  }
 ],
 "metadata": {
  "kernelspec": {
   "display_name": "Python 3 (ipykernel)",
   "language": "python",
   "name": "python3"
  },
  "language_info": {
   "codemirror_mode": {
    "name": "ipython",
    "version": 3
   },
   "file_extension": ".py",
   "mimetype": "text/x-python",
   "name": "python",
   "nbconvert_exporter": "python",
   "pygments_lexer": "ipython3",
   "version": "3.10.9"
  }
 },
 "nbformat": 4,
 "nbformat_minor": 5
}
