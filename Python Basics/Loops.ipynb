{
 "cells": [
  {
   "cell_type": "code",
   "execution_count": 5,
   "id": "b77a33e5",
   "metadata": {},
   "outputs": [
    {
     "name": "stdout",
     "output_type": "stream",
     "text": [
      "1+2+3+4+5+6+7+8+9+10\n"
     ]
    }
   ],
   "source": [
    "i=1\n",
    "while i<11:\n",
    "    if i<10:\n",
    "        print(i,end='+')\n",
    "    else:\n",
    "        print(i)\n",
    "    i+=1\n",
    "\n",
    "    \n",
    "    "
   ]
  },
  {
   "cell_type": "code",
   "execution_count": 7,
   "id": "f77a8ff6",
   "metadata": {},
   "outputs": [
    {
     "name": "stdout",
     "output_type": "stream",
     "text": [
      "1\n",
      "ODD\n",
      "3\n",
      "ODD\n",
      "5\n",
      "ODD\n",
      "7\n",
      "ODD\n",
      "9\n",
      "ODD\n",
      "11\n",
      "ODD\n"
     ]
    }
   ],
   "source": [
    "i=0\n",
    "while i<=10:\n",
    "    i+=1\n",
    "    if i%2==0:\n",
    "        continue\n",
    "    print(i)\n",
    "    print(\"ODD\")\n"
   ]
  },
  {
   "cell_type": "code",
   "execution_count": 29,
   "id": "bfc26f7b",
   "metadata": {},
   "outputs": [
    {
     "name": "stdout",
     "output_type": "stream",
     "text": [
      "Enter number:123\n"
     ]
    },
    {
     "ename": "IndexError",
     "evalue": "list index out of range",
     "output_type": "error",
     "traceback": [
      "\u001b[1;31m---------------------------------------------------------------------------\u001b[0m",
      "\u001b[1;31mIndexError\u001b[0m                                Traceback (most recent call last)",
      "Cell \u001b[1;32mIn[29], line 5\u001b[0m\n\u001b[0;32m      2\u001b[0m convert \u001b[38;5;241m=\u001b[39m\u001b[38;5;28mlist\u001b[39m(x)\n\u001b[0;32m      4\u001b[0m \u001b[38;5;28;01mfor\u001b[39;00m i \u001b[38;5;129;01min\u001b[39;00m \u001b[38;5;28mrange\u001b[39m(\u001b[38;5;28mlen\u001b[39m(convert)\u001b[38;5;241m-\u001b[39m\u001b[38;5;241m1\u001b[39m):\n\u001b[1;32m----> 5\u001b[0m     \u001b[38;5;28mprint\u001b[39m(\u001b[43mconvert\u001b[49m\u001b[43m[\u001b[49m\u001b[38;5;28;43mlen\u001b[39;49m\u001b[43m(\u001b[49m\u001b[43mconvert\u001b[49m\u001b[43m)\u001b[49m\u001b[38;5;241;43m-\u001b[39;49m\u001b[43mi\u001b[49m\u001b[43m]\u001b[49m)\n",
      "\u001b[1;31mIndexError\u001b[0m: list index out of range"
     ]
    }
   ],
   "source": []
  },
  {
   "cell_type": "code",
   "execution_count": 30,
   "id": "2c55e55e",
   "metadata": {},
   "outputs": [
    {
     "name": "stdout",
     "output_type": "stream",
     "text": [
      "Enter number:123\n",
      "321"
     ]
    }
   ],
   "source": [
    "x=int(input('Enter number:'))\n",
    "while x>0:\n",
    "    rem=x%10              #x=153,15,1\n",
    "    print(rem,end='')     #rem=3,5,1\n",
    "    x=x//10\n",
    "    "
   ]
  },
  {
   "cell_type": "code",
   "execution_count": 36,
   "id": "7a91b872",
   "metadata": {},
   "outputs": [
    {
     "name": "stdout",
     "output_type": "stream",
     "text": [
      "Enter number:153\n",
      "9\n"
     ]
    }
   ],
   "source": [
    "x=int(input('Enter number:'))\n",
    "sum=0\n",
    "while x>0:\n",
    "    rem=x%10 \n",
    "    sum+=rem    \n",
    "    x=x//10\n",
    "print(sum)"
   ]
  },
  {
   "cell_type": "code",
   "execution_count": 58,
   "id": "740d60e4",
   "metadata": {},
   "outputs": [
    {
     "name": "stdout",
     "output_type": "stream",
     "text": [
      "Enter number:370\n",
      "yes\n"
     ]
    }
   ],
   "source": [
    "x=int(input('Enter number:'))\n",
    "check=x\n",
    "power=len(str(x))\n",
    "num=0\n",
    "while x>0:\n",
    "    rem=x%10\n",
    "    num+=rem**power\n",
    "    x=x//10\n",
    "\n",
    "if num==check:\n",
    "    print('yes')\n",
    "else:\n",
    "    print('no')\n",
    "    \n"
   ]
  },
  {
   "cell_type": "code",
   "execution_count": null,
   "id": "accaca0a",
   "metadata": {},
   "outputs": [],
   "source": []
  },
  {
   "cell_type": "code",
   "execution_count": null,
   "id": "0a91d566",
   "metadata": {},
   "outputs": [],
   "source": []
  }
 ],
 "metadata": {
  "kernelspec": {
   "display_name": "Python 3 (ipykernel)",
   "language": "python",
   "name": "python3"
  },
  "language_info": {
   "codemirror_mode": {
    "name": "ipython",
    "version": 3
   },
   "file_extension": ".py",
   "mimetype": "text/x-python",
   "name": "python",
   "nbconvert_exporter": "python",
   "pygments_lexer": "ipython3",
   "version": "3.10.9"
  }
 },
 "nbformat": 4,
 "nbformat_minor": 5
}
