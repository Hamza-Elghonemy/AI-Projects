{
 "cells": [
  {
   "cell_type": "code",
   "execution_count": 3,
   "id": "199c82df",
   "metadata": {},
   "outputs": [
    {
     "name": "stdout",
     "output_type": "stream",
     "text": [
      "{-6, 3, 4}\n",
      "{-6, 3, 4, -10}\n",
      "{3, 4, -10}\n"
     ]
    }
   ],
   "source": [
    "S={4,3,-6}\n",
    "print(S)\n",
    "S.add(-10)\n",
    "print(S)\n",
    "S.pop()\n",
    "print(S)"
   ]
  },
  {
   "cell_type": "code",
   "execution_count": 23,
   "id": "1159805d",
   "metadata": {},
   "outputs": [
    {
     "name": "stdout",
     "output_type": "stream",
     "text": [
      "Enter a number: 400\n",
      "1\n",
      "1\n",
      "5\n",
      "year: 1 month(s): 1 day(s): 5\n"
     ]
    }
   ],
   "source": [
    "x=int(input('Enter a number: '))\n",
    "year=(x//365)\n",
    "print(year)\n",
    "month=(x%365)//30\n",
    "print(month)\n",
    "days=(x%365)%30\n",
    "print(days)\n",
    "print('year:',year,'month(s):',month,'day(s):',days)"
   ]
  },
  {
   "cell_type": "code",
   "execution_count": 66,
   "id": "786b1fb3",
   "metadata": {},
   "outputs": [
    {
     "name": "stdout",
     "output_type": "stream",
     "text": [
      "[[0, 0, 0, 0], [0, 0, 0, 0], [0, 0, 0, 0], [0, 0, 0, 0]]\n",
      "[[1, 1, 1, 1], [1, 1, 1, 1], [1, 1, 1, 1], [1, 1, 1, 1]]\n"
     ]
    }
   ],
   "source": [
    "rows,colmns=(4,4)\n",
    "matrix=[[0]*colmns]*rows\n",
    "\n",
    "last=3\n",
    "print(matrix)\n",
    "for i in range(4):  \n",
    "    matrix[i][0]=1\n",
    "    matrix[i][last]=1\n",
    "    for j in range(4):\n",
    "        matrix[0][j]=1\n",
    "        matrix[last][j]=1\n",
    "    \n",
    "print(matrix)\n"
   ]
  },
  {
   "cell_type": "code",
   "execution_count": 86,
   "id": "9486d748",
   "metadata": {
    "scrolled": true
   },
   "outputs": [
    {
     "name": "stdout",
     "output_type": "stream",
     "text": [
      "Enter rows:3\n",
      "Enter coloumns:4\n",
      "[[1. 1. 1. 1.]\n",
      " [1. 0. 0. 1.]\n",
      " [1. 1. 1. 1.]]\n"
     ]
    }
   ],
   "source": [
    "import numpy as np\n",
    "rows=int(input('Enter rows:'))\n",
    "coloumns=int(input('Enter coloumns:'))\n",
    "matrix=np.ones((rows,coloumns))\n",
    "#matrix=np.zeros((rows,coloumns))\n",
    "#for i in range(rows):  \n",
    "    #matrix[i][0]=1\n",
    "    #matrix[i][coloumns-1]=1\n",
    "    #for j in range(coloumns):\n",
    "        #matrix[0][j]=1\n",
    "       #matrix[rows-1][j]=1\n",
    "matrix[1:rows-1,1:coloumns-1]=0\n",
    "print(matrix)"
   ]
  },
  {
   "cell_type": "code",
   "execution_count": null,
   "id": "498f5019",
   "metadata": {},
   "outputs": [],
   "source": []
  },
  {
   "cell_type": "code",
   "execution_count": null,
   "id": "70cca3ac",
   "metadata": {},
   "outputs": [],
   "source": []
  },
  {
   "cell_type": "code",
   "execution_count": null,
   "id": "2cb40e3e",
   "metadata": {},
   "outputs": [],
   "source": []
  }
 ],
 "metadata": {
  "kernelspec": {
   "display_name": "Python 3 (ipykernel)",
   "language": "python",
   "name": "python3"
  },
  "language_info": {
   "codemirror_mode": {
    "name": "ipython",
    "version": 3
   },
   "file_extension": ".py",
   "mimetype": "text/x-python",
   "name": "python",
   "nbconvert_exporter": "python",
   "pygments_lexer": "ipython3",
   "version": "3.10.9"
  }
 },
 "nbformat": 4,
 "nbformat_minor": 5
}
