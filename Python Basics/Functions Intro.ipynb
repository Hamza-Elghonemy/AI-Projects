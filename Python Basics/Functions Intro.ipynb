{
 "cells": [
  {
   "cell_type": "code",
   "execution_count": 1,
   "id": "952ebfbf",
   "metadata": {},
   "outputs": [],
   "source": [
    "import pandas as "
   ]
  },
  {
   "cell_type": "code",
   "execution_count": null,
   "id": "df4090d4",
   "metadata": {},
   "outputs": [],
   "source": [
    "import statsmodels.api as sm\n",
    "df = sm.datasets.get_rdataset('GaltonFamilies',package=\"Misdata\").data\n",
    "df"
   ]
  },
  {
   "cell_type": "code",
   "execution_count": 35,
   "id": "334a7d74",
   "metadata": {},
   "outputs": [
    {
     "name": "stdout",
     "output_type": "stream",
     "text": [
      "58.625\n"
     ]
    }
   ],
   "source": [
    "#mean\n",
    "def mean(x):\n",
    "    summation=0\n",
    "    for num in data:\n",
    "        summation+=num\n",
    "    mean=summation/len(data)\n",
    "    print(mean)\n",
    "\n",
    "data=[12,22,344,5,3,66,7,10]\n",
    "mean(data)"
   ]
  },
  {
   "cell_type": "code",
   "execution_count": 36,
   "id": "74ef4f36",
   "metadata": {},
   "outputs": [
    {
     "name": "stdout",
     "output_type": "stream",
     "text": [
      "[3, 5, 7, 10, 12, 22, 66, 344]\n",
      "8\n",
      "11.0\n"
     ]
    }
   ],
   "source": [
    "#median\n",
    "def median(x):\n",
    "    \n",
    "    data2.sort()\n",
    "    print(data2)\n",
    "    print(len(data2))\n",
    "    index=int((len(data2)+1)/2)\n",
    "    if len(data2)%2==1:\n",
    "        print(data2[index])\n",
    "    else:\n",
    "        print((data2[index-1]+data2[index])/2)\n",
    "data2=[12,22,344,5,3,66,7,10]        \n",
    "median(data)"
   ]
  },
  {
   "cell_type": "code",
   "execution_count": 37,
   "id": "31618ec4",
   "metadata": {},
   "outputs": [
    {
     "name": "stdout",
     "output_type": "stream",
     "text": [
      "hello\n"
     ]
    }
   ],
   "source": []
  }
 ],
 "metadata": {
  "kernelspec": {
   "display_name": "Python 3 (ipykernel)",
   "language": "python",
   "name": "python3"
  },
  "language_info": {
   "codemirror_mode": {
    "name": "ipython",
    "version": 3
   },
   "file_extension": ".py",
   "mimetype": "text/x-python",
   "name": "python",
   "nbconvert_exporter": "python",
   "pygments_lexer": "ipython3",
   "version": "3.10.9"
  }
 },
 "nbformat": 4,
 "nbformat_minor": 5
}
