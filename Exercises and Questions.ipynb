{
 "cells": [
  {
   "cell_type": "code",
   "execution_count": 3,
   "id": "418e265e",
   "metadata": {},
   "outputs": [],
   "source": [
    "import numpy as np\n",
    "import pandas as pd"
   ]
  },
  {
   "cell_type": "markdown",
   "id": "f3963300",
   "metadata": {},
   "source": [
    " 1-Create an array of 10 fives"
   ]
  },
  {
   "cell_type": "code",
   "execution_count": 1,
   "id": "c1b90c99",
   "metadata": {},
   "outputs": [
    {
     "name": "stdout",
     "output_type": "stream",
     "text": [
      "[5, 5, 5, 5, 5, 5, 5, 5, 5, 5]\n"
     ]
    }
   ],
   "source": [
    "arr=[]\n",
    "for i in range(10):\n",
    "    arr.append(5)\n",
    "print (arr)"
   ]
  },
  {
   "cell_type": "markdown",
   "id": "31ebaef3",
   "metadata": {},
   "source": [
    "2-Create an array of all the even integers from 10 to 50"
   ]
  },
  {
   "cell_type": "code",
   "execution_count": 5,
   "id": "c18a0d80",
   "metadata": {},
   "outputs": [
    {
     "name": "stdout",
     "output_type": "stream",
     "text": [
      "[10, 12, 14, 16, 18, 20, 22, 24, 26, 28, 30, 32, 34, 36, 38, 40, 42, 44, 46, 48, 50]\n"
     ]
    }
   ],
   "source": [
    "arr=[]\n",
    "\n",
    "for i in range(10,51,1):\n",
    "    if i%2==0:\n",
    "        arr.append(i)\n",
    "print(arr)"
   ]
  },
  {
   "cell_type": "code",
   "execution_count": 6,
   "id": "dc7e58a3",
   "metadata": {
    "scrolled": true
   },
   "outputs": [],
   "source": [
    "#help(range)"
   ]
  },
  {
   "cell_type": "markdown",
   "id": "b88ed68d",
   "metadata": {},
   "source": [
    "3-Create a 3x3 matrix with values ranging from 0 to 8"
   ]
  },
  {
   "cell_type": "code",
   "execution_count": 37,
   "id": "3da77ab4",
   "metadata": {},
   "outputs": [
    {
     "data": {
      "text/plain": [
       "array([[0, 3, 3],\n",
       "       [0, 1, 7],\n",
       "       [1, 5, 4]])"
      ]
     },
     "execution_count": 37,
     "metadata": {},
     "output_type": "execute_result"
    }
   ],
   "source": [
    "matrix=np.random.randint(8,size=(3,3))\n",
    "matrix"
   ]
  },
  {
   "cell_type": "code",
   "execution_count": 22,
   "id": "d6c41a54",
   "metadata": {},
   "outputs": [
    {
     "name": "stdout",
     "output_type": "stream",
     "text": [
      "Help on built-in function array in module numpy:\n",
      "\n",
      "array(...)\n",
      "    array(object, dtype=None, *, copy=True, order='K', subok=False, ndmin=0,\n",
      "          like=None)\n",
      "    \n",
      "    Create an array.\n",
      "    \n",
      "    Parameters\n",
      "    ----------\n",
      "    object : array_like\n",
      "        An array, any object exposing the array interface, an object whose\n",
      "        __array__ method returns an array, or any (nested) sequence.\n",
      "        If object is a scalar, a 0-dimensional array containing object is\n",
      "        returned.\n",
      "    dtype : data-type, optional\n",
      "        The desired data-type for the array.  If not given, then the type will\n",
      "        be determined as the minimum type required to hold the objects in the\n",
      "        sequence.\n",
      "    copy : bool, optional\n",
      "        If true (default), then the object is copied.  Otherwise, a copy will\n",
      "        only be made if __array__ returns a copy, if obj is a nested sequence,\n",
      "        or if a copy is needed to satisfy any of the other requirements\n",
      "        (`dtype`, `order`, etc.).\n",
      "    order : {'K', 'A', 'C', 'F'}, optional\n",
      "        Specify the memory layout of the array. If object is not an array, the\n",
      "        newly created array will be in C order (row major) unless 'F' is\n",
      "        specified, in which case it will be in Fortran order (column major).\n",
      "        If object is an array the following holds.\n",
      "    \n",
      "        ===== ========= ===================================================\n",
      "        order  no copy                     copy=True\n",
      "        ===== ========= ===================================================\n",
      "        'K'   unchanged F & C order preserved, otherwise most similar order\n",
      "        'A'   unchanged F order if input is F and not C, otherwise C order\n",
      "        'C'   C order   C order\n",
      "        'F'   F order   F order\n",
      "        ===== ========= ===================================================\n",
      "    \n",
      "        When ``copy=False`` and a copy is made for other reasons, the result is\n",
      "        the same as if ``copy=True``, with some exceptions for 'A', see the\n",
      "        Notes section. The default order is 'K'.\n",
      "    subok : bool, optional\n",
      "        If True, then sub-classes will be passed-through, otherwise\n",
      "        the returned array will be forced to be a base-class array (default).\n",
      "    ndmin : int, optional\n",
      "        Specifies the minimum number of dimensions that the resulting\n",
      "        array should have.  Ones will be prepended to the shape as\n",
      "        needed to meet this requirement.\n",
      "    like : array_like, optional\n",
      "        Reference object to allow the creation of arrays which are not\n",
      "        NumPy arrays. If an array-like passed in as ``like`` supports\n",
      "        the ``__array_function__`` protocol, the result will be defined\n",
      "        by it. In this case, it ensures the creation of an array object\n",
      "        compatible with that passed in via this argument.\n",
      "    \n",
      "        .. versionadded:: 1.20.0\n",
      "    \n",
      "    Returns\n",
      "    -------\n",
      "    out : ndarray\n",
      "        An array object satisfying the specified requirements.\n",
      "    \n",
      "    See Also\n",
      "    --------\n",
      "    empty_like : Return an empty array with shape and type of input.\n",
      "    ones_like : Return an array of ones with shape and type of input.\n",
      "    zeros_like : Return an array of zeros with shape and type of input.\n",
      "    full_like : Return a new array with shape of input filled with value.\n",
      "    empty : Return a new uninitialized array.\n",
      "    ones : Return a new array setting values to one.\n",
      "    zeros : Return a new array setting values to zero.\n",
      "    full : Return a new array of given shape filled with value.\n",
      "    \n",
      "    \n",
      "    Notes\n",
      "    -----\n",
      "    When order is 'A' and `object` is an array in neither 'C' nor 'F' order,\n",
      "    and a copy is forced by a change in dtype, then the order of the result is\n",
      "    not necessarily 'C' as expected. This is likely a bug.\n",
      "    \n",
      "    Examples\n",
      "    --------\n",
      "    >>> np.array([1, 2, 3])\n",
      "    array([1, 2, 3])\n",
      "    \n",
      "    Upcasting:\n",
      "    \n",
      "    >>> np.array([1, 2, 3.0])\n",
      "    array([ 1.,  2.,  3.])\n",
      "    \n",
      "    More than one dimension:\n",
      "    \n",
      "    >>> np.array([[1, 2], [3, 4]])\n",
      "    array([[1, 2],\n",
      "           [3, 4]])\n",
      "    \n",
      "    Minimum dimensions 2:\n",
      "    \n",
      "    >>> np.array([1, 2, 3], ndmin=2)\n",
      "    array([[1, 2, 3]])\n",
      "    \n",
      "    Type provided:\n",
      "    \n",
      "    >>> np.array([1, 2, 3], dtype=complex)\n",
      "    array([ 1.+0.j,  2.+0.j,  3.+0.j])\n",
      "    \n",
      "    Data-type consisting of more than one element:\n",
      "    \n",
      "    >>> x = np.array([(1,2),(3,4)],dtype=[('a','<i4'),('b','<i4')])\n",
      "    >>> x['a']\n",
      "    array([1, 3])\n",
      "    \n",
      "    Creating an array from sub-classes:\n",
      "    \n",
      "    >>> np.array(np.mat('1 2; 3 4'))\n",
      "    array([[1, 2],\n",
      "           [3, 4]])\n",
      "    \n",
      "    >>> np.array(np.mat('1 2; 3 4'), subok=True)\n",
      "    matrix([[1, 2],\n",
      "            [3, 4]])\n",
      "\n"
     ]
    }
   ],
   "source": [
    "#help(np.array)"
   ]
  },
  {
   "cell_type": "markdown",
   "id": "a52f6669",
   "metadata": {},
   "source": [
    "4-Create the following matrix:\n",
    "\n",
    "array([[0.01, 0.02, 0.03, 0.04, 0.05, 0.06, 0.07, 0.08, 0.09, 0.1 ],\n",
    "       [0.11, 0.12, 0.13, 0.14, 0.15, 0.16, 0.17, 0.18, 0.19, 0.2 ],\n",
    "       [0.21, 0.22, 0.23, 0.24, 0.25, 0.26, 0.27, 0.28, 0.29, 0.3 ],\n",
    "       [0.31, 0.32, 0.33, 0.34, 0.35, 0.36, 0.37, 0.38, 0.39, 0.4 ],\n",
    "       [0.41, 0.42, 0.43, 0.44, 0.45, 0.46, 0.47, 0.48, 0.49, 0.5 ],\n",
    "       [0.51, 0.52, 0.53, 0.54, 0.55, 0.56, 0.57, 0.58, 0.59, 0.6 ],\n",
    "       [0.61, 0.62, 0.63, 0.64, 0.65, 0.66, 0.67, 0.68, 0.69, 0.7 ],\n",
    "       [0.71, 0.72, 0.73, 0.74, 0.75, 0.76, 0.77, 0.78, 0.79, 0.8 ],\n",
    "       [0.81, 0.82, 0.83, 0.84, 0.85, 0.86, 0.87, 0.88, 0.89, 0.9 ],\n",
    "       [0.91, 0.92, 0.93, 0.94, 0.95, 0.96, 0.97, 0.98, 0.99, 1.  ]])"
   ]
  },
  {
   "cell_type": "code",
   "execution_count": 46,
   "id": "05cc0d90",
   "metadata": {},
   "outputs": [
    {
     "data": {
      "text/plain": [
       "array([[0.01, 0.02, 0.03, 0.04, 0.05, 0.06, 0.07, 0.08, 0.09, 0.1 ],\n",
       "       [0.11, 0.12, 0.13, 0.14, 0.15, 0.16, 0.17, 0.18, 0.19, 0.2 ],\n",
       "       [0.21, 0.22, 0.23, 0.24, 0.25, 0.26, 0.27, 0.28, 0.29, 0.3 ],\n",
       "       [0.31, 0.32, 0.33, 0.34, 0.35, 0.36, 0.37, 0.38, 0.39, 0.4 ],\n",
       "       [0.41, 0.42, 0.43, 0.44, 0.45, 0.46, 0.47, 0.48, 0.49, 0.5 ],\n",
       "       [0.51, 0.52, 0.53, 0.54, 0.55, 0.56, 0.57, 0.58, 0.59, 0.6 ],\n",
       "       [0.61, 0.62, 0.63, 0.64, 0.65, 0.66, 0.67, 0.68, 0.69, 0.7 ],\n",
       "       [0.71, 0.72, 0.73, 0.74, 0.75, 0.76, 0.77, 0.78, 0.79, 0.8 ],\n",
       "       [0.81, 0.82, 0.83, 0.84, 0.85, 0.86, 0.87, 0.88, 0.89, 0.9 ],\n",
       "       [0.91, 0.92, 0.93, 0.94, 0.95, 0.96, 0.97, 0.98, 0.99, 1.  ]])"
      ]
     },
     "execution_count": 46,
     "metadata": {},
     "output_type": "execute_result"
    }
   ],
   "source": [
    "matrix=np.arange(0.01,1.01,0.01).reshape(10,10)\n",
    "matrix"
   ]
  },
  {
   "cell_type": "code",
   "execution_count": 1,
   "id": "285491ef",
   "metadata": {},
   "outputs": [],
   "source": [
    "#help(np)"
   ]
  },
  {
   "cell_type": "markdown",
   "id": "877b4c4b",
   "metadata": {},
   "source": [
    "5-So Provided that we have a set of data. How can we find the median? (implement median function)\n",
    "x = [6, 3, 8, 1, 7, 9, 3] , x = [6, 3, 2, 8, 9, 1, 5, 4]"
   ]
  },
  {
   "cell_type": "code",
   "execution_count": 182,
   "id": "f866ff8c",
   "metadata": {},
   "outputs": [
    {
     "name": "stdout",
     "output_type": "stream",
     "text": [
      "The median is:  5.285714285714286\n"
     ]
    }
   ],
   "source": [
    "x = [6, 3, 8, 1, 7, 9, 3] \n",
    "sum=0\n",
    "for i in x:\n",
    "    sum+=i\n",
    "sum\n",
    "\n",
    "median=(sum/len(x))\n",
    "print('The median is: ',median)"
   ]
  },
  {
   "cell_type": "markdown",
   "id": "a9157bf2",
   "metadata": {},
   "source": [
    "6-What is AI?"
   ]
  },
  {
   "cell_type": "code",
   "execution_count": null,
   "id": "e0813196",
   "metadata": {},
   "outputs": [],
   "source": [
    "### Artificial Intelligence, is a huge art of upcoming technology. It is based on machine learning, data science and data analysis. ALl these features help in making computers make better decesions than human beings in things that require no emotions. "
   ]
  },
  {
   "cell_type": "markdown",
   "id": "49acdce7",
   "metadata": {},
   "source": [
    "7-Why AI is used ?"
   ]
  },
  {
   "cell_type": "code",
   "execution_count": null,
   "id": "c40056f3",
   "metadata": {},
   "outputs": [],
   "source": [
    "#To help humans make better rational descisions in important situations and to make monotonous day to day work easier for humans"
   ]
  },
  {
   "cell_type": "markdown",
   "id": "37e78b72",
   "metadata": {},
   "source": [
    "8-When to use AI ?"
   ]
  },
  {
   "cell_type": "code",
   "execution_count": null,
   "id": "0c253972",
   "metadata": {},
   "outputs": [],
   "source": [
    "#To predict a certain outcome or to identify certain diseases or to make crucial descisions "
   ]
  },
  {
   "cell_type": "markdown",
   "id": "1cdb5994",
   "metadata": {},
   "source": [
    "9-What is  AI pipeline?"
   ]
  },
  {
   "cell_type": "code",
   "execution_count": null,
   "id": "c77f4710",
   "metadata": {},
   "outputs": [],
   "source": [
    "# AI pipeline is the sequence of steps the AI uses to do certain jobs"
   ]
  },
  {
   "cell_type": "markdown",
   "id": "1515a112",
   "metadata": {},
   "source": [
    "10-AI is ....% Data Operations , and ..... Model Creation "
   ]
  },
  {
   "cell_type": "code",
   "execution_count": null,
   "id": "2241d40f",
   "metadata": {},
   "outputs": [],
   "source": [
    "#80 20"
   ]
  },
  {
   "cell_type": "markdown",
   "id": "34f91e24",
   "metadata": {},
   "source": [
    "11-how to convert data that not normal distribution to normal distribution?"
   ]
  },
  {
   "cell_type": "code",
   "execution_count": null,
   "id": "f7cc8ae0",
   "metadata": {},
   "outputs": [],
   "source": [
    "#we can take the mean of the values and analyze data according to it or by taking the log to the values and analyzing based on it"
   ]
  },
  {
   "cell_type": "markdown",
   "id": "cca74e1e",
   "metadata": {},
   "source": [
    "11-What is Feature Engineering? "
   ]
  },
  {
   "cell_type": "code",
   "execution_count": null,
   "id": "7389cf3a",
   "metadata": {},
   "outputs": [],
   "source": [
    "#feature engineering is when engineers maange the usage of data correctly in order for the machine to have better accuracy"
   ]
  },
  {
   "cell_type": "markdown",
   "id": "fa78aa84",
   "metadata": {},
   "source": [
    "12-How to avoid bad Sampling"
   ]
  },
  {
   "cell_type": "code",
   "execution_count": null,
   "id": "2882aafa",
   "metadata": {},
   "outputs": [],
   "source": [
    "# By taking the random samples depending on standard deviation and removing outliers"
   ]
  },
  {
   "cell_type": "markdown",
   "id": "74237b97",
   "metadata": {},
   "source": [
    "13-Why do we do Sampling?"
   ]
  },
  {
   "cell_type": "code",
   "execution_count": null,
   "id": "95706ba5",
   "metadata": {},
   "outputs": [],
   "source": [
    "# In order to have better understanding of the data in our hands as it is too bigand try and discover trends and relations between the data"
   ]
  },
  {
   "cell_type": "markdown",
   "id": "33d6d575",
   "metadata": {},
   "source": [
    "14-What is a programming language?"
   ]
  },
  {
   "cell_type": "code",
   "execution_count": null,
   "id": "474ba94a",
   "metadata": {},
   "outputs": [],
   "source": [
    "# A programming language is a way for us to make computers understand our english and preform according to the instructions we give it\n",
    "# There are two types of programming languages high level and low level\n",
    "#highlevel--> C++ and python\n",
    "#low level--> assembly"
   ]
  },
  {
   "cell_type": "markdown",
   "id": "6e612de0",
   "metadata": {},
   "source": [
    "15-Create a random vector of size 30 and find the mean value"
   ]
  },
  {
   "cell_type": "code",
   "execution_count": 52,
   "id": "197199ff",
   "metadata": {},
   "outputs": [
    {
     "name": "stdout",
     "output_type": "stream",
     "text": [
      "[[ 3 21 14 13  7 17 26  4 14  7 17 22  1 25 14  1 12 22  8  3  0 12 28  4\n",
      "  26 28 24 28 15 16]]\n",
      "The mean of the vector is:  14.4\n"
     ]
    }
   ],
   "source": [
    "vector=np.random.randint(30,size=(1,30))\n",
    "print(vector)\n",
    "m=vector.mean()\n",
    "print('The mean of the vector is: ' ,m)"
   ]
  },
  {
   "cell_type": "markdown",
   "id": "6502d14b",
   "metadata": {},
   "source": [
    "16-Create a 10x10 array with random values and find the minimum and maximum values"
   ]
  },
  {
   "cell_type": "code",
   "execution_count": 54,
   "id": "d230eb7f",
   "metadata": {},
   "outputs": [
    {
     "name": "stdout",
     "output_type": "stream",
     "text": [
      "[[34 33 54 16 93 35 31 14 86 76]\n",
      " [ 1 80 52 59  3 21 93 80 97 86]\n",
      " [74 37 73 40  4  5 49 51 56 18]\n",
      " [ 4 41 81 36 76 32 49 57 28 25]\n",
      " [30 60 93 95 88 68 13 22 46 79]\n",
      " [53 25 86 32 41 52 88 76 62 35]\n",
      " [32 36 38 86 91 97 63 59 59 77]\n",
      " [76 89 51 66 68 69 95 14 82 35]\n",
      " [89 31 32 29 62 11 48 45 18 49]\n",
      " [72 99 73  4 73 91 69 50 44 96]]\n",
      "The maximum value is:  99\n",
      "The minimum value is:  1\n"
     ]
    }
   ],
   "source": [
    "matrix=np.random.randint(100,size=(10,10))\n",
    "print(matrix)\n",
    "mx=matrix.max()\n",
    "mn=matrix.min()\n",
    "print(\"The maximum value is: \",mx)\n",
    "print(\"The minimum value is: \",mn)"
   ]
  },
  {
   "cell_type": "markdown",
   "id": "a14c2a93",
   "metadata": {},
   "source": [
    "17- Write a NumPy program to create a 2D array with 1 on the border and 0 inside"
   ]
  },
  {
   "cell_type": "code",
   "execution_count": 62,
   "id": "c9788546",
   "metadata": {},
   "outputs": [
    {
     "data": {
      "text/plain": [
       "array([[1, 1, 1, 1],\n",
       "       [1, 0, 0, 1],\n",
       "       [1, 0, 0, 1],\n",
       "       [1, 1, 1, 1]], dtype=int16)"
      ]
     },
     "execution_count": 62,
     "metadata": {},
     "output_type": "execute_result"
    }
   ],
   "source": [
    "matrix=np.ones([4,4],dtype='int16')\n",
    "matrix[1][1:3]=0\n",
    "matrix[2][1:3]=0\n",
    "matrix"
   ]
  },
  {
   "cell_type": "markdown",
   "id": "6acb9578",
   "metadata": {},
   "source": [
    "18-Create a 8x8 matrix and fill it with a checkerboard pattern"
   ]
  },
  {
   "cell_type": "code",
   "execution_count": 7,
   "id": "4a128a15",
   "metadata": {},
   "outputs": [
    {
     "data": {
      "text/plain": [
       "array([[1, 0, 1, 0, 1, 0, 1, 0],\n",
       "       [0, 1, 0, 1, 0, 1, 0, 1],\n",
       "       [1, 0, 1, 0, 1, 0, 1, 0],\n",
       "       [0, 1, 0, 1, 0, 1, 0, 1],\n",
       "       [1, 0, 1, 0, 1, 0, 1, 0],\n",
       "       [0, 1, 0, 1, 0, 1, 0, 1],\n",
       "       [1, 0, 1, 0, 1, 0, 1, 0],\n",
       "       [0, 1, 0, 1, 0, 1, 0, 1]])"
      ]
     },
     "execution_count": 7,
     "metadata": {},
     "output_type": "execute_result"
    }
   ],
   "source": [
    "matrix=np.tile(([1,0],[0,1]),(4,4))\n",
    "matrix"
   ]
  },
  {
   "cell_type": "code",
   "execution_count": 8,
   "id": "2b7f367b",
   "metadata": {},
   "outputs": [],
   "source": [
    "#help(matrix)\n"
   ]
  },
  {
   "cell_type": "markdown",
   "id": "6abbeb05",
   "metadata": {},
   "source": [
    "19-generates a 5x5 NumPy array filled with random integers from 1 to 99."
   ]
  },
  {
   "cell_type": "code",
   "execution_count": 11,
   "id": "df1a4551",
   "metadata": {},
   "outputs": [
    {
     "data": {
      "text/plain": [
       "array([[84, 48,  4, 44, 48],\n",
       "       [76, 38, 72, 59,  7],\n",
       "       [23, 84, 87, 30, 34],\n",
       "       [14, 45, 12, 90,  6],\n",
       "       [81, 76, 52, 87, 56]])"
      ]
     },
     "execution_count": 11,
     "metadata": {},
     "output_type": "execute_result"
    }
   ],
   "source": [
    "matrix=np.random.randint(100,size=(5,5))\n",
    "matrix"
   ]
  },
  {
   "cell_type": "markdown",
   "id": "f54c8dde",
   "metadata": {},
   "source": [
    "20-mean,std,mim and max"
   ]
  },
  {
   "cell_type": "code",
   "execution_count": 12,
   "id": "4948357e",
   "metadata": {},
   "outputs": [
    {
     "name": "stdout",
     "output_type": "stream",
     "text": [
      "The mean is:  50.28\n",
      "The standard deviation is:  28.14607610307341\n",
      "The minimum is:  4\n",
      "The maximum is:  90\n"
     ]
    }
   ],
   "source": [
    "s=matrix.std()\n",
    "me=matrix.mean()\n",
    "mi=matrix.min()\n",
    "mx=matrix.max()\n",
    "print('The mean is: ',me)\n",
    "print('The standard deviation is: ',s)\n",
    "print('The minimum is: ',mi)\n",
    "print('The maximum is: ',mx)"
   ]
  },
  {
   "cell_type": "markdown",
   "id": "b9dd4021",
   "metadata": {},
   "source": [
    "21-what is Types of Data"
   ]
  },
  {
   "cell_type": "code",
   "execution_count": null,
   "id": "83fb4502",
   "metadata": {},
   "outputs": [],
   "source": [
    "# Nominal or discrete data"
   ]
  },
  {
   "cell_type": "markdown",
   "id": "d9aac0d2",
   "metadata": {},
   "source": [
    "22-calc the Z score x=25 ,std=5 ,mean= 20"
   ]
  },
  {
   "cell_type": "code",
   "execution_count": 13,
   "id": "d044ad10",
   "metadata": {},
   "outputs": [
    {
     "name": "stdout",
     "output_type": "stream",
     "text": [
      "Enter a number: 25\n",
      "Enter the standard deviation: 5\n",
      "Enter the mean: 20\n",
      "The Z score of your data is:  1.0\n"
     ]
    }
   ],
   "source": [
    "# Zsscore= x-mean/std\n",
    "x=int(input('Enter a number: '))\n",
    "std=int(input('Enter the standard deviation: '))\n",
    "mean=int(input('Enter the mean: '))\n",
    "Zscore=(x-mean)/std\n",
    "print('The Z score of your data is: ',Zscore)"
   ]
  },
  {
   "cell_type": "markdown",
   "id": "dcc697a6",
   "metadata": {},
   "source": [
    "23-Create a list of theses elements : 1,3,4,16,17,20, \"Ahmed\", \"Mazen\", True"
   ]
  },
  {
   "cell_type": "code",
   "execution_count": 133,
   "id": "d55e7bd2",
   "metadata": {},
   "outputs": [
    {
     "data": {
      "text/plain": [
       "list"
      ]
     },
     "execution_count": 133,
     "metadata": {},
     "output_type": "execute_result"
    }
   ],
   "source": [
    "l2=[1,3,4,16,17,20,'Ahmed','Mazen','True']\n",
    "type(l2)"
   ]
  },
  {
   "cell_type": "markdown",
   "id": "67f3c9c6",
   "metadata": {},
   "source": [
    "24-add 7 to the list "
   ]
  },
  {
   "cell_type": "code",
   "execution_count": 134,
   "id": "4991b6a7",
   "metadata": {},
   "outputs": [
    {
     "data": {
      "text/plain": [
       "[1, 3, 4, 7, 16, 17, 20, 'Ahmed', 'Mazen', 'True']"
      ]
     },
     "execution_count": 134,
     "metadata": {},
     "output_type": "execute_result"
    }
   ],
   "source": [
    "l2.insert(3,7)\n",
    "l2"
   ]
  },
  {
   "cell_type": "markdown",
   "id": "afa177ac",
   "metadata": {},
   "source": [
    "25-remove 3 from the list "
   ]
  },
  {
   "cell_type": "code",
   "execution_count": 135,
   "id": "3b1dd9a0",
   "metadata": {},
   "outputs": [
    {
     "data": {
      "text/plain": [
       "[1, 4, 7, 16, 17, 20, 'Ahmed', 'Mazen', 'True']"
      ]
     },
     "execution_count": 135,
     "metadata": {},
     "output_type": "execute_result"
    }
   ],
   "source": [
    "l2.remove(3)\n",
    "l2"
   ]
  },
  {
   "cell_type": "markdown",
   "id": "8224cd09",
   "metadata": {},
   "source": [
    "26-Count how many numbers 4 has occured"
   ]
  },
  {
   "cell_type": "code",
   "execution_count": 138,
   "id": "515f5f1f",
   "metadata": {},
   "outputs": [
    {
     "data": {
      "text/plain": [
       "1"
      ]
     },
     "execution_count": 138,
     "metadata": {},
     "output_type": "execute_result"
    }
   ],
   "source": [
    "count=0\n",
    "for i in l2:\n",
    "    if i==4:\n",
    "        count+=1\n",
    "count"
   ]
  },
  {
   "cell_type": "markdown",
   "id": "fec25e4f",
   "metadata": {},
   "source": [
    "27-print only the even numbers in the list"
   ]
  },
  {
   "cell_type": "code",
   "execution_count": 141,
   "id": "6f493734",
   "metadata": {},
   "outputs": [
    {
     "name": "stdout",
     "output_type": "stream",
     "text": [
      "4\n",
      "16\n",
      "20\n"
     ]
    }
   ],
   "source": [
    "for i in l2:\n",
    "    if  str(i).isdigit():\n",
    "        if i%2==0:\n",
    "            print(i)"
   ]
  },
  {
   "cell_type": "markdown",
   "id": "6ac9cc55",
   "metadata": {},
   "source": [
    "28-Sum only the numeric elements in the list"
   ]
  },
  {
   "cell_type": "code",
   "execution_count": 143,
   "id": "6b8ca10e",
   "metadata": {},
   "outputs": [
    {
     "name": "stdout",
     "output_type": "stream",
     "text": [
      "65\n"
     ]
    }
   ],
   "source": [
    "sum=0\n",
    "for i in l2:\n",
    "    if  str(i).isdigit():\n",
    "        sum+=int(i)\n",
    "print(sum)"
   ]
  },
  {
   "cell_type": "markdown",
   "id": "175870ea",
   "metadata": {},
   "source": [
    "29-When must we use Assembly?"
   ]
  },
  {
   "cell_type": "code",
   "execution_count": null,
   "id": "06e5df46",
   "metadata": {},
   "outputs": [],
   "source": [
    "# When we are talking to the operating system of the computer"
   ]
  },
  {
   "cell_type": "markdown",
   "id": "d1b305bd",
   "metadata": {},
   "source": [
    "30-Why Companies can't move from OOP to Functional programming?"
   ]
  },
  {
   "cell_type": "code",
   "execution_count": null,
   "id": "e632a30e",
   "metadata": {},
   "outputs": [],
   "source": [
    "#Because OOP is much easier to work with and easier to understand than functional \n",
    "# In addition it simplifies the code and allows for easier function calls"
   ]
  },
  {
   "cell_type": "markdown",
   "id": "4cfe683d",
   "metadata": {},
   "source": [
    "31- Agile and waterfall\n"
   ]
  },
  {
   "cell_type": "code",
   "execution_count": null,
   "id": "a2403bc3",
   "metadata": {},
   "outputs": [],
   "source": [
    "#"
   ]
  },
  {
   "cell_type": "markdown",
   "id": "7d400c5a",
   "metadata": {},
   "source": [
    "32-What is Sample Size ?"
   ]
  },
  {
   "cell_type": "code",
   "execution_count": null,
   "id": "62268ed8",
   "metadata": {},
   "outputs": [],
   "source": [
    "#It is a a group of data used to represent a greater set of data top find relations"
   ]
  },
  {
   "cell_type": "markdown",
   "id": "b901c7f3",
   "metadata": {},
   "source": [
    "33-Why do we do Sampling?"
   ]
  },
  {
   "cell_type": "code",
   "execution_count": null,
   "id": "62a863e9",
   "metadata": {},
   "outputs": [],
   "source": [
    "# same as before"
   ]
  },
  {
   "cell_type": "markdown",
   "id": "46045636",
   "metadata": {},
   "source": [
    "34-What are the types of medical image files?"
   ]
  },
  {
   "cell_type": "code",
   "execution_count": null,
   "id": "ba37a18c",
   "metadata": {},
   "outputs": [],
   "source": [
    "#png and jpg"
   ]
  },
  {
   "cell_type": "markdown",
   "id": "4cf22724",
   "metadata": {},
   "source": [
    "35-what is series?"
   ]
  },
  {
   "cell_type": "code",
   "execution_count": null,
   "id": "7927a0f6",
   "metadata": {},
   "outputs": [],
   "source": [
    "#Series is form of data similar to a dataframe that can be used to preform data analysis "
   ]
  },
  {
   "cell_type": "markdown",
   "id": "a1257b81",
   "metadata": {},
   "source": [
    "36-Create pandas dataframe as input from users\n",
    "\n",
    "name, age, id, gender, email, phone number, city,\n",
    "\n",
    "then\n",
    "\n",
    "a. group by city\n",
    "b. which city has the most students\n",
    "c. get the average of ages for each gender\n",
    "d. plot the relation between number of males to females\n",
    "e. plot the relation between age and gender"
   ]
  },
  {
   "cell_type": "code",
   "execution_count": 116,
   "id": "086410ec",
   "metadata": {},
   "outputs": [
    {
     "data": {
      "image/png": "[encoded data removed]",
      "text/plain": [
       "<Figure size 640x480 with 1 Axes>"
      ]
     },
     "metadata": {},
     "output_type": "display_data"
    },
    {
     "name": "stdout",
     "output_type": "stream",
     "text": [
      "The average female ages is: 26.0\n",
      "The average male ages is:  15.5\n"
     ]
    }
   ],
   "source": [
    "import pandas as pd\n",
    "l=[]\n",
    "name=['Hamza','Jihan','Mohammed','Noureen']\n",
    "age=['19','22','12','30']\n",
    "Id=['1','2','3','4']\n",
    "gender=['Male','Female','Male','Female']\n",
    "email=['hamza@gmail.com','jihan@gmail.com','mo@gmail.com','nour@gmail.com']\n",
    "phone_number=['0111022112','01100221121','01001221231','01222311331']\n",
    "city=['Cairo','Giza','Cairo','Cairo']\n",
    "\n",
    "#for i in range(3):\n",
    "    #name=input('Enter a name:')\n",
    "    #age=input('Enter age:')\n",
    "    #Id=input('Enter ID:')\n",
    "    #gender=input('Enter gender:')\n",
    "    #email=input('Enter email:')\n",
    "    #phone_number=input('Enter phone number:')\n",
    "    #city=input('Enter city: ')\n",
    "for i in range(4):    \n",
    "    l.append([name[i],age[i],Id[i],gender[i],email[i],phone_number[i],city[i]])\n",
    "df=pd.DataFrame(l,columns=['name','age','Id','gender','email','phone_number','city'])\n",
    "#df\n",
    "sumf=0\n",
    "summ=0\n",
    "gc=df.groupby('city')\n",
    "gc.head()\n",
    "df['city'].value_counts()\n",
    "j=0\n",
    "malec=0\n",
    "femalec=0\n",
    "for i in df['gender']:\n",
    "\n",
    "    if i == 'Male':\n",
    "        strage=df._get_value(j,'age')\n",
    "        summ+=int(strage)\n",
    "        malec+=1\n",
    "    else :\n",
    "        strage=df._get_value(j,'age')\n",
    "        sumf+=int(strage)\n",
    "        femalec+=1\n",
    "    j+=1\n",
    "\n",
    "plt.scatter(df['gender'],df['age'])\n",
    "plt.title('Age to Gender')\n",
    "plt.xlabel('Gender')\n",
    "plt.ylabel('age')\n",
    "plt.show()\n",
    "avgmales=(summ/malec)\n",
    "avgfemales=(sumf/femalec)\n",
    "print('The average female ages is:',avgfemales)\n",
    "print('The average male ages is: ',avgmales)\n",
    "#df['city'].sum().max()\n",
    "#df['gender']=='male'"
   ]
  },
  {
   "cell_type": "code",
   "execution_count": 114,
   "id": "d2206f04",
   "metadata": {},
   "outputs": [
    {
     "data": {
      "text/plain": [
       "<Axes: >"
      ]
     },
     "execution_count": 114,
     "metadata": {},
     "output_type": "execute_result"
    },
    {
     "data": {
      "image/png": "[encoded data removed]",
      "text/plain": [
       "<Figure size 640x480 with 1 Axes>"
      ]
     },
     "metadata": {},
     "output_type": "display_data"
    }
   ],
   "source": [
    "df['gender'].hist()"
   ]
  },
  {
   "cell_type": "code",
   "execution_count": null,
   "id": "e783d52a",
   "metadata": {},
   "outputs": [],
   "source": [
    "\n"
   ]
  },
  {
   "cell_type": "code",
   "execution_count": 105,
   "id": "d823ae1a",
   "metadata": {},
   "outputs": [],
   "source": [
    "%matplotlib inline\n",
    "# Exercises\n",
    "\n",
    "#Follow the instructions to recreate the plots using this data:\n",
    "\n",
    "## Data\n",
    "\n",
    "import numpy as np\n",
    "x = np.arange(0,100)\n",
    "y = x*2\n",
    "z = x**2\n",
    "\n",
    "import matplotlib.pyplot as plt\n"
   ]
  },
  {
   "cell_type": "markdown",
   "id": "7102b638",
   "metadata": {},
   "source": [
    "## Exercise 1\n",
    "\n",
    "** Follow along with these steps: **\n",
    "* ** Create a figure object called fig using plt.figure() **\n",
    "* ** Use add_axes to add an axis to the figure canvas at [0,0,1,1]. Call this new axis ax. **\n",
    "* ** Plot (x,y) on that axes and set the labels and titles to match the plot below:**\n"
   ]
  },
  {
   "cell_type": "code",
   "execution_count": 175,
   "id": "e9c214c1",
   "metadata": {},
   "outputs": [
    {
     "data": {
      "text/plain": [
       "[<matplotlib.lines.Line2D at 0x215628cc430>]"
      ]
     },
     "execution_count": 175,
     "metadata": {},
     "output_type": "execute_result"
    },
    {
     "data": {
      "image/png": "[encoded data removed]",
      "text/plain": [
       "<Figure size 640x480 with 1 Axes>"
      ]
     },
     "metadata": {},
     "output_type": "display_data"
    }
   ],
   "source": [
    "fig=plt.figure()\n",
    "ax=fig.add_axes( [0,0,1,1])\n",
    "plt.plot(x,y)"
   ]
  },
  {
   "cell_type": "markdown",
   "id": "0d9d77d1",
   "metadata": {},
   "source": [
    "## Exercise 2\n",
    "** Create a figure object and put two axes on it, ax1 and ax2. Located at [0,0,1,1] and [0.2,0.5,.2,.2] respectively.**\n"
   ]
  },
  {
   "cell_type": "code",
   "execution_count": 176,
   "id": "42f0bb10",
   "metadata": {},
   "outputs": [
    {
     "data": {
      "text/plain": [
       "[<matplotlib.lines.Line2D at 0x21562757be0>]"
      ]
     },
     "execution_count": 176,
     "metadata": {},
     "output_type": "execute_result"
    },
    {
     "data": {
      "image/png": "[encoded data removed]",
      "text/plain": [
       "<Figure size 640x480 with 2 Axes>"
      ]
     },
     "metadata": {},
     "output_type": "display_data"
    }
   ],
   "source": [
    "fig=plt.figure()\n",
    "ax1=fig.add_axes([0,0,1,1])\n",
    "ax2=fig.add_axes([0.2,0.5,.2,.2])\n",
    "plt.plot(x,y)"
   ]
  },
  {
   "cell_type": "code",
   "execution_count": 19,
   "id": "f01b718d",
   "metadata": {},
   "outputs": [],
   "source": [
    "#help(plt)"
   ]
  },
  {
   "cell_type": "code",
   "execution_count": null,
   "id": "089b1f96",
   "metadata": {},
   "outputs": [],
   "source": []
  }
 ],
 "metadata": {
  "kernelspec": {
   "display_name": "Python 3 (ipykernel)",
   "language": "python",
   "name": "python3"
  },
  "language_info": {
   "codemirror_mode": {
    "name": "ipython",
    "version": 3
   },
   "file_extension": ".py",
   "mimetype": "text/x-python",
   "name": "python",
   "nbconvert_exporter": "python",
   "pygments_lexer": "ipython3",
   "version": "3.10.9"
  }
 },
 "nbformat": 4,
 "nbformat_minor": 5
}
